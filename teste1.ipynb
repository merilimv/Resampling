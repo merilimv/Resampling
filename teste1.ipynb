{
 "cells": [
  {
   "cell_type": "code",
   "execution_count": 17,
   "metadata": {},
   "outputs": [
    {
     "data": {
      "text/plain": [
       "Other-service        824\n",
       "Adm-clerical         738\n",
       "Machine-op-inspct    429\n",
       "Craft-repair         371\n",
       "Prof-specialty       371\n",
       "Sales                353\n",
       "Exec-managerial      351\n",
       "?                    329\n",
       "Transport-moving     268\n",
       "Handlers-cleaners    262\n",
       "Protective-serv      149\n",
       "Tech-support         132\n",
       "Farming-fishing       56\n",
       "Priv-house-serv       51\n",
       "Name: occupation, dtype: int64"
      ]
     },
     "execution_count": 17,
     "metadata": {},
     "output_type": "execute_result"
    }
   ],
   "source": [
    "import pandas as pd\n",
    "import numpy as np\n",
    "import matplotlib.pyplot as plt\n",
    "from sklearn.preprocessing import OrdinalEncoder\n",
    "from sklearn.tree import DecisionTreeClassifier\n",
    "from sklearn.metrics import mean_absolute_error\n",
    "from sklearn.preprocessing import OrdinalEncoder\n",
    "from imblearn.under_sampling import RandomUnderSampler\n",
    "data = pd.read_csv(\"C:\\\\Users\\\\murilo.pinheiro\\\\Documents\\\\Notebooks\\\\adult.csv\")\n",
    "data = data.loc[(data['race'] == 'Black')]\n",
    "data = data.drop('race', axis = 1)\n",
    "data = data.drop('native-country', axis = 1)\n",
    "data = data.drop(data.loc[data['occupation'] == 'Armed-Forces'].index, axis = 0)\n",
    "data.occupation.value_counts()"
   ]
  },
  {
   "cell_type": "code",
   "execution_count": 18,
   "metadata": {},
   "outputs": [],
   "source": [
    "x = data.drop(['income'], axis=1)\n",
    "Y = data[\"income\"]\n",
    "\n",
    "from sklearn.model_selection import train_test_split\n",
    "\n",
    "x_train, x_test, Y_train, Y_test = train_test_split(x, Y, test_size = 0.3, random_state = 5)"
   ]
  },
  {
   "cell_type": "code",
   "execution_count": 19,
   "metadata": {},
   "outputs": [],
   "source": [
    "from sklearn.preprocessing import OrdinalEncoder\n",
    "\n",
    "categoricalLabels = (x_train.select_dtypes(include = ['object'])).columns\n",
    "\n",
    "encoder = OrdinalEncoder(dtype = 'int32')\n",
    "\n",
    "num_x_train = x_train.copy()\n",
    "num_x_test = x_test.copy()\n",
    "\n",
    "num_x_train[categoricalLabels] = encoder.fit_transform(x_train[categoricalLabels])\n",
    "num_x_test[categoricalLabels] = encoder.transform(x_test[categoricalLabels])\n",
    "\n",
    "num_Y_test = Y_test.apply(lambda p: 1 if p == '>50K' else 0)\n",
    "num_Y_train = Y_train.apply(lambda p: 1 if p == '>50K' else 0)"
   ]
  },
  {
   "cell_type": "code",
   "execution_count": 20,
   "metadata": {},
   "outputs": [
    {
     "name": "stdout",
     "output_type": "stream",
     "text": [
      "0.8143669985775249\n"
     ]
    }
   ],
   "source": [
    "new_x = num_x_train\n",
    "new_y = num_Y_train\n",
    "quantity = np.arange(0.4, 1, 0.001, dtype = float)\n",
    "modelo = DecisionTreeClassifier()\n",
    "\n",
    "# scores = []\n",
    "# for n in quantity:\n",
    "#     rus = RandomUnderSampler(random_state = 0, sampling_strategy = n)\n",
    "#     X_under, y_under = rus.fit_resample(new_x, new_y)\n",
    "#     modelo.fit(X_under, y_under)\n",
    "#     previsao = modelo.predict(num_x_test)\n",
    "#     score = 1 - mean_absolute_error(num_Y_test, previsao)\n",
    "#     scores.append(score)\n",
    "\n",
    "# plt.plot(quantity, scores, linewidth = 2)\n",
    "# plt.ylim(top = 1, bottom = 0)\n",
    "# plt.show()\n",
    "rus = RandomUnderSampler(random_state = 0, sampling_strategy = 0.9)\n",
    "X_under, y_under = rus.fit_resample(new_x, new_y)\n",
    "modelo.fit(X_under, y_under)\n",
    "#0.9 ficou OK\n",
    "previsao = modelo.predict(num_x_test)\n",
    "score = 1 - mean_absolute_error(num_Y_test, previsao)\n",
    "print(score)\n"
   ]
  }
 ],
 "metadata": {
  "kernelspec": {
   "display_name": "Python 3",
   "language": "python",
   "name": "python3"
  },
  "language_info": {
   "codemirror_mode": {
    "name": "ipython",
    "version": 3
   },
   "file_extension": ".py",
   "mimetype": "text/x-python",
   "name": "python",
   "nbconvert_exporter": "python",
   "pygments_lexer": "ipython3",
   "version": "3.10.7 (tags/v3.10.7:6cc6b13, Sep  5 2022, 14:08:36) [MSC v.1933 64 bit (AMD64)]"
  },
  "orig_nbformat": 4,
  "vscode": {
   "interpreter": {
    "hash": "41f24c3b72f316e3b61812b25f63d5b07991f4c8138cc9e53a0e82c5f9f37da6"
   }
  }
 },
 "nbformat": 4,
 "nbformat_minor": 2
}
