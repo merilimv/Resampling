{
 "cells": [
  {
   "cell_type": "code",
   "execution_count": 13,
   "metadata": {},
   "outputs": [
    {
     "name": "stdout",
     "output_type": "stream",
     "text": [
      "<class 'pandas.core.frame.DataFrame'>\n",
      "RangeIndex: 48842 entries, 0 to 48841\n",
      "Data columns (total 13 columns):\n",
      " #   Column           Non-Null Count  Dtype \n",
      "---  ------           --------------  ----- \n",
      " 0   age              48842 non-null  int64 \n",
      " 1   workclass        48842 non-null  object\n",
      " 2   fnlwgt           48842 non-null  int64 \n",
      " 3   education        48842 non-null  object\n",
      " 4   educational-num  48842 non-null  int64 \n",
      " 5   marital-status   48842 non-null  object\n",
      " 6   occupation       48842 non-null  object\n",
      " 7   relationship     48842 non-null  object\n",
      " 8   gender           48842 non-null  object\n",
      " 9   capital-gain     48842 non-null  int64 \n",
      " 10  capital-loss     48842 non-null  int64 \n",
      " 11  hours-per-week   48842 non-null  int64 \n",
      " 12  income           48842 non-null  object\n",
      "dtypes: int64(6), object(7)\n",
      "memory usage: 4.8+ MB\n"
     ]
    }
   ],
   "source": [
    "import pandas as pd\n",
    "import numpy as np\n",
    "import matplotlib.pyplot as plt\n",
    "from sklearn.preprocessing import OrdinalEncoder\n",
    "from sklearn.tree import DecisionTreeClassifier\n",
    "from sklearn.metrics import mean_absolute_error\n",
    "from sklearn.preprocessing import OrdinalEncoder\n",
    "from imblearn.under_sampling import RandomUnderSampler\n",
    "data = pd.read_csv(\"C:\\\\Users\\\\murilo.pinheiro\\\\Documents\\\\Notebooks\\\\adult.csv\")\n",
    "data = data.drop('race', axis = 1)\n",
    "data = data.drop('native-country', axis = 1)\n",
    "data.info()"
   ]
  },
  {
   "cell_type": "code",
   "execution_count": 14,
   "metadata": {},
   "outputs": [],
   "source": [
    "x = data.drop(['income'], axis=1)\n",
    "Y = data[\"income\"]\n",
    "\n",
    "from sklearn.model_selection import train_test_split\n",
    "\n",
    "x_train, x_test, Y_train, Y_test = train_test_split(x, Y, test_size = 0.3, random_state = 5)"
   ]
  },
  {
   "cell_type": "code",
   "execution_count": 15,
   "metadata": {},
   "outputs": [],
   "source": [
    "from sklearn.preprocessing import OrdinalEncoder\n",
    "\n",
    "categoricalLabels = (x_train.select_dtypes(include = ['object'])).columns\n",
    "\n",
    "encoder = OrdinalEncoder(dtype = 'int32')\n",
    "\n",
    "num_x_train = x_train.copy()\n",
    "num_x_test = x_test.copy()\n",
    "\n",
    "num_x_train[categoricalLabels] = encoder.fit_transform(x_train[categoricalLabels])\n",
    "num_x_test[categoricalLabels] = encoder.transform(x_test[categoricalLabels])\n",
    "\n",
    "num_Y_test = Y_test.apply(lambda p: 1 if p == '>50K' else 0)\n",
    "num_Y_train = Y_train.apply(lambda p: 1 if p == '>50K' else 0)"
   ]
  },
  {
   "cell_type": "code",
   "execution_count": 16,
   "metadata": {},
   "outputs": [
    {
     "name": "stdout",
     "output_type": "stream",
     "text": [
      "0.7820241588753156\n"
     ]
    }
   ],
   "source": [
    "new_x = num_x_train\n",
    "new_y = num_Y_train\n",
    "quantity = np.arange(0.4, 1, 0.001, dtype = float)\n",
    "modelo = DecisionTreeClassifier()\n",
    "\n",
    "#basicamente esse código roda diversos modelos com diferentes undersamples\n",
    "#e ele mostra as diferentes acurácias\n",
    "#eu escolhi 0.7 pois tem como acurácia 0.8, a acurácia sem undersample é de 0.9\n",
    "#basicamente utilizei a undersample pra diminuir a acurácia \n",
    "\n",
    "# scores = []\n",
    "# for n in quantity:\n",
    "#     rus = RandomUnderSampler(random_state = 0, sampling_strategy = n)\n",
    "#     X_under, y_under = rus.fit_resample(new_x, new_y)\n",
    "#     modelo.fit(X_under, y_under)\n",
    "#     previsao = modelo.predict(num_x_test)\n",
    "#     score = 1 - mean_absolute_error(num_Y_test, previsao)\n",
    "#     scores.append(score)\n",
    "\n",
    "# plt.plot(quantity, scores, linewidth = 2)\n",
    "# plt.ylim(top = 1, bottom = 0)\n",
    "#0.7 ficou OK\n",
    "# plt.show()\n",
    "rus = RandomUnderSampler(sampling_strategy = 0.7, random_state = 0)\n",
    "X_under, y_under = rus.fit_resample(new_x, new_y)\n",
    "modelo.fit(X_under, y_under)\n",
    "previsao = modelo.predict(num_x_test)\n",
    "score = 1 - mean_absolute_error(num_Y_test, previsao)\n",
    "# dependendo da aleatoriedade pode ter altas perdas, dependendo de como for feita a divisão do X e Y e a aleatoriedade do Resample pode dar ruim\n",
    "print(score)\n"
   ]
  }
 ],
 "metadata": {
  "kernelspec": {
   "display_name": "Python 3",
   "language": "python",
   "name": "python3"
  },
  "language_info": {
   "codemirror_mode": {
    "name": "ipython",
    "version": 3
   },
   "file_extension": ".py",
   "mimetype": "text/x-python",
   "name": "python",
   "nbconvert_exporter": "python",
   "pygments_lexer": "ipython3",
   "version": "3.10.7 (tags/v3.10.7:6cc6b13, Sep  5 2022, 14:08:36) [MSC v.1933 64 bit (AMD64)]"
  },
  "orig_nbformat": 4,
  "vscode": {
   "interpreter": {
    "hash": "41f24c3b72f316e3b61812b25f63d5b07991f4c8138cc9e53a0e82c5f9f37da6"
   }
  }
 },
 "nbformat": 4,
 "nbformat_minor": 2
}
